{
 "cells": [
  {
   "cell_type": "code",
   "execution_count": null,
   "id": "4f373939",
   "metadata": {},
   "outputs": [],
   "source": [
    "import numpy as np\n",
    "import pandas as pd\n",
    "import matplotlib.pyplot as plt\n",
    "\n",
    "from skimage.measure import label, regionprops\n",
    "from scipy.ndimage import binary_dilation"
   ]
  },
  {
   "cell_type": "code",
   "execution_count": null,
   "id": "b3051505",
   "metadata": {},
   "outputs": [],
   "source": [
    "plt.rc('font', family = 'serif', size = 13, weight = \"bold\")\n",
    "plt.rc('xtick', labelsize = 10)\n",
    "plt.rc('ytick', labelsize = 10)\n",
    "plt.rc('axes', linewidth = 2)\n",
    "plt.rc('lines', linewidth = 3)\n",
    "plt.rc('figure', figsize = (5, 5), dpi = 80)\n",
    "plt.rc('legend', fontsize = 13)\n",
    "\n",
    "cm = plt.cm.get_cmap('tab20')"
   ]
  },
  {
   "cell_type": "markdown",
   "id": "227b596e",
   "metadata": {},
   "source": [
    "### Load in the image"
   ]
  },
  {
   "cell_type": "code",
   "execution_count": null,
   "id": "879d361d",
   "metadata": {},
   "outputs": [],
   "source": [
    "sender_image = plt.imread(\"./Sample_Data/Txn_series1_0min_sender.tif\")\n",
    "receiver_image = plt.imread(\"./Sample_Data/Txn_series1_0min_receiver.tif\")"
   ]
  },
  {
   "cell_type": "code",
   "execution_count": null,
   "id": "2f678441",
   "metadata": {},
   "outputs": [],
   "source": [
    "fig = plt.figure(figsize=(11, 5), dpi = 80)\n",
    "\n",
    "plt.subplot(1, 2, 1)\n",
    "plt.title(\"Sender Channel (Raw)\")\n",
    "plt.imshow(sender_image, cmap=\"gray\")\n",
    "\n",
    "plt.subplot(1, 2, 2)\n",
    "plt.title(\"Receiver Channel (Raw)\")\n",
    "plt.imshow(receiver_image, cmap=\"gray\")\n",
    "\n",
    "plt.tight_layout()\n",
    "plt.show()"
   ]
  },
  {
   "cell_type": "markdown",
   "id": "7c9a5100",
   "metadata": {},
   "source": [
    "### Sender receiver droplet identification"
   ]
  },
  {
   "cell_type": "code",
   "execution_count": null,
   "id": "470ee0b9",
   "metadata": {},
   "outputs": [],
   "source": [
    "def droplet_detection(sender_image, receiver_image):\n",
    "    \"\"\"\n",
    "    Identify the locations of the sender and receiver droplets.\n",
    "    \"\"\"\n",
    "    # Create Binary for better signal to noise\n",
    "    binary = sender_image > (sender_image.mean() + sender_image.std())\n",
    "\n",
    "    # use labeling function to identify connected blobs\n",
    "    label_im = label(binary)\n",
    "    blob_lists = regionprops(label_im)\n",
    "\n",
    "    # Remove small blobs\n",
    "    senders = [i for i in blob_lists if i.area > 500]\n",
    "    \n",
    "    # Mask to document all sender locations\n",
    "    mask = np.zeros_like(binary)\n",
    "    for i in senders:\n",
    "        minr, minc, maxr, maxc = i.bbox\n",
    "        mask[minr:maxr, minc:maxc] = 1\n",
    "        \n",
    "    # Create Binary for better signal to noise\n",
    "    binary = receiver_image > (receiver_image.mean() + receiver_image.std())\n",
    "    \n",
    "    # use labeling function to identify connected blobs\n",
    "    label_im = label(binary)\n",
    "    blob_lists = regionprops(label_im)\n",
    "\n",
    "    # Remove small blobs\n",
    "    receivers = [i for i in blob_lists if i.area > 500]\n",
    "\n",
    "    # Extract receiver droplets\n",
    "    true_receivers = []\n",
    "    for i in receivers:\n",
    "        minr, minc, maxr, maxc = i.bbox\n",
    "        if mask[int((minr+maxr)/2), int((minc+maxc)/2)] == 0:\n",
    "            true_receivers.append(i)\n",
    "            \n",
    "    return senders, true_receivers"
   ]
  },
  {
   "cell_type": "code",
   "execution_count": null,
   "id": "83a29622",
   "metadata": {},
   "outputs": [],
   "source": [
    "senders, receivers = droplet_detection(sender_image, receiver_image)"
   ]
  },
  {
   "cell_type": "markdown",
   "id": "ff0f0af3",
   "metadata": {},
   "source": [
    "### Single-channel droplet identification"
   ]
  },
  {
   "cell_type": "code",
   "execution_count": null,
   "id": "e97cb890",
   "metadata": {},
   "outputs": [],
   "source": [
    "def droplet_detection_single_channel(image):\n",
    "    \"\"\"\n",
    "    Identify the locations of the droplets.\n",
    "    \"\"\"\n",
    "    # Create Binary for better signal to noise\n",
    "    binary = image > (image.mean() + image.std())\n",
    "\n",
    "    # use labeling function to identify connected blobs\n",
    "    label_im = label(binary)\n",
    "    blob_lists = regionprops(label_im)\n",
    "\n",
    "    # Remove small blobs\n",
    "    droplets = [i for i in blob_lists if i.area > 500]\n",
    "    \n",
    "    return droplets"
   ]
  },
  {
   "cell_type": "code",
   "execution_count": null,
   "id": "8f890cf8",
   "metadata": {},
   "outputs": [],
   "source": [
    "droplets = droplet_detection_single_channel(sender_image)"
   ]
  },
  {
   "cell_type": "markdown",
   "id": "2e26b591",
   "metadata": {},
   "source": [
    "### Extract the pixel values of droplets - Filter Method"
   ]
  },
  {
   "cell_type": "code",
   "execution_count": null,
   "id": "7b24ebdb",
   "metadata": {},
   "outputs": [],
   "source": [
    "def droplet_value_extraction_v2(droplets, image, filename = False, dilation = False):\n",
    "    \"\"\"\n",
    "    Extract the intensity value of the droplets. Can save as a txt file for later plotting.\n",
    "    \"\"\"\n",
    "    \n",
    "    values = []\n",
    "    \n",
    "    if dilation:\n",
    "        \n",
    "        for blob in droplets:\n",
    "\n",
    "            minr, minc, maxr, maxc = blob.bbox\n",
    "            blob_img = image[minr:maxr, minc:maxc]\n",
    "            vals = blob_img[binary_dilation(blob.image)]\n",
    "            values.append(vals)\n",
    "\n",
    "        values = np.concatenate(values)\n",
    "        \n",
    "    else:\n",
    "    \n",
    "        for blob in droplets:\n",
    "\n",
    "            minr, minc, maxr, maxc = blob.bbox\n",
    "            blob_img = image[minr:maxr, minc:maxc]\n",
    "            vals = blob_img[blob.image]\n",
    "            values.append(vals)\n",
    "\n",
    "        values = np.concatenate(values)\n",
    "    \n",
    "    if filename: np.savetxt(filename, values, fmt='%f')\n",
    "    \n",
    "    return values"
   ]
  },
  {
   "cell_type": "code",
   "execution_count": null,
   "id": "608a4ef3",
   "metadata": {},
   "outputs": [],
   "source": [
    "sender_values = droplet_value_extraction_v2(senders, receiver_image)\n",
    "\n",
    "print(\"Mean:\\t{:.2f}\\nStd:\\t{:.2f}\\nMin:\\t{:.2f}\\nMax:\\t{:.2f}\".format(np.mean(sender_values), np.std(sender_values), np.min(sender_values), np.max(sender_values)))\n"
   ]
  },
  {
   "cell_type": "code",
   "execution_count": null,
   "id": "1fa8aa19",
   "metadata": {},
   "outputs": [],
   "source": [
    "figure = plt.figure(figsize = (8, 6), dpi = 80)\n",
    "\n",
    "plt.hist(sender_values, bins = 1000, color = 'grey')\n",
    "plt.title(\"Sender Droplets\", weight = \"bold\")\n",
    "plt.xlabel(\"Fluorescence Intensity (a.u.)\", weight = \"bold\")\n",
    "plt.ylabel(\"Frequency\", weight = \"bold\")\n",
    "plt.xlim(0, 20000)\n",
    "plt.show()"
   ]
  },
  {
   "cell_type": "code",
   "execution_count": null,
   "id": "843ef71f",
   "metadata": {},
   "outputs": [],
   "source": [
    "receiver_values = droplet_value_extraction_v2(receivers, receiver_image, dilation = True)\n",
    "\n",
    "print(\"Mean:\\t{:.2f}\\nStd:\\t{:.2f}\\nMin:\\t{:.2f}\\nMax:\\t{:.2f}\".format(np.mean(receiver_values), np.std(receiver_values), np.min(receiver_values), np.max(receiver_values)))\n"
   ]
  },
  {
   "cell_type": "code",
   "execution_count": null,
   "id": "1dc3bf89",
   "metadata": {},
   "outputs": [],
   "source": [
    "figure = plt.figure(figsize = (8, 6), dpi = 80)\n",
    "\n",
    "plt.hist(receiver_values, bins = 1000, color = 'grey')\n",
    "plt.title(\"Receiver Droplets\", weight = \"bold\")\n",
    "plt.xlabel(\"Fluorescence Intensity (a.u.)\", weight = \"bold\")\n",
    "plt.ylabel(\"Frequency\", weight = \"bold\")\n",
    "plt.xlim(0, 20000)\n",
    "plt.show()"
   ]
  },
  {
   "cell_type": "markdown",
   "id": "3a477bd7",
   "metadata": {},
   "source": [
    "### Generate droplet-annotated images"
   ]
  },
  {
   "cell_type": "code",
   "execution_count": null,
   "id": "8fabfdb8",
   "metadata": {},
   "outputs": [],
   "source": [
    "def droplet_annotation(image, droplet, RAW = False, filename = False):\n",
    "    \"\"\"\n",
    "    Saves the image with droplets annotated.\n",
    "    \n",
    "    RAW = True -> plots the raw image.\n",
    "    \n",
    "    RAW = False -> plots the amplified binary image.\n",
    "    \n",
    "    Set up a filename to save the image.\n",
    "    \"\"\"\n",
    "    \n",
    "    figure = plt.figure(figsize=(8, 8), dpi = 80)\n",
    "\n",
    "    ax = plt.subplot(1,1,1)\n",
    "    \n",
    "    if RAW:\n",
    "        plt.imshow(image, cmap = \"gray\")\n",
    "    else:\n",
    "        binary = image > (image.mean() + image.std())\n",
    "        plt.imshow(binary, cmap = \"gray\")\n",
    "        \n",
    "\n",
    "    for i in droplet:\n",
    "        minr, minc, maxr, maxc = i.bbox\n",
    "        rect = plt.Rectangle((minc, minr), maxc - minc, maxr - minr,\n",
    "                                  fill=False, edgecolor='red', linewidth=2, alpha=.8)\n",
    "        ax.add_patch(rect)\n",
    "        ax.set_axis_off()\n",
    "        \n",
    "    if filename:\n",
    "        plt.savefig(filename, bbox_inches='tight', pad_inches=0)\n",
    "\n",
    "    plt.show()"
   ]
  },
  {
   "cell_type": "code",
   "execution_count": null,
   "id": "33f1f8b9",
   "metadata": {},
   "outputs": [],
   "source": [
    "print(\"Sender Droplets\")\n",
    "droplet_annotation(receiver_image, senders, RAW = False, filename = \"./Sample_Data/test.png\")"
   ]
  },
  {
   "cell_type": "code",
   "execution_count": null,
   "id": "953cffa3",
   "metadata": {},
   "outputs": [],
   "source": [
    "print(\"Receiver Droplets\")\n",
    "droplet_annotation(receiver_image, receivers, RAW = False)"
   ]
  },
  {
   "cell_type": "markdown",
   "id": "c092f5fc",
   "metadata": {},
   "source": [
    "## Time Series"
   ]
  },
  {
   "cell_type": "code",
   "execution_count": null,
   "id": "7073b4af",
   "metadata": {},
   "outputs": [],
   "source": [
    "series_sender_values, series_receiver_values = [], []\n",
    "\n",
    "for i in [0, 30, 60]:\n",
    "    sender_image = plt.imread(\"./Sample_Data/Txn_series1_{:.0f}min_sender.tif\".format(i))\n",
    "    receiver_image = plt.imread(\"./Sample_Data/Txn_series1_{:.0f}min_receiver.tif\".format(i))\n",
    "    \n",
    "    senders, receivers = droplet_detection(sender_image, receiver_image)\n",
    "    sender_value = droplet_value_extraction_v2(senders, receiver_image)\n",
    "    receiver_value = droplet_value_extraction_v2(receivers, receiver_image, dilation = True)\n",
    "    series_sender_values.append(sender_value)\n",
    "    series_receiver_values.append(receiver_value)"
   ]
  },
  {
   "cell_type": "code",
   "execution_count": null,
   "id": "1274b782",
   "metadata": {},
   "outputs": [],
   "source": [
    "fig, (ax1, ax2) = plt.subplots(nrows=1, ncols=2, figsize=(8, 3.5))\n",
    "\n",
    "bplot1 = ax1.boxplot(series_sender_values,\n",
    "                   labels = [\"0\", \"30\", \"60\"],\n",
    "                   showfliers=False, # dont show outliers\n",
    "                   vert=True,  # vertical box alignment\n",
    "                   patch_artist=True)\n",
    "\n",
    "bplot2 = ax2.boxplot(series_receiver_values,\n",
    "                   labels = [\"0\", \"30\", \"60\"],\n",
    "                   showfliers=False, # dont show outliers\n",
    "                   vert=True,  # vertical box alignment\n",
    "                   patch_artist=True)\n",
    "\n",
    "ax1.yaxis.grid(True)\n",
    "ax1.set_title(\"Senders\", weight = \"bold\")\n",
    "ax1.set_xlabel(\"Time (min)\", weight = \"bold\")\n",
    "ax1.set_ylabel(\"Fluorescence Intensity (a.u.)\", weight = \"bold\")\n",
    "\n",
    "ax2.yaxis.grid(True)\n",
    "ax2.set_title(\"Receivers\", weight = \"bold\")\n",
    "ax2.set_xlabel(\"Time (min)\", weight = \"bold\")\n",
    "ax2.set_ylabel(\"Fluorescence Intensity (a.u.)\", weight = \"bold\")\n",
    "\n",
    "\n",
    "for bplot in (bplot1, bplot2):\n",
    "    for patch, color in zip(bplot['boxes'], [\"lightgray\", \"lightgray\", \"lightgray\"]):\n",
    "        patch.set_facecolor(color)  \n",
    "    for median in bplot['medians']:\n",
    "        median.set_color('black')\n",
    "        \n",
    "plt.tight_layout()\n",
    "    \n",
    "plt.show()"
   ]
  },
  {
   "cell_type": "code",
   "execution_count": null,
   "id": "6e5037d9",
   "metadata": {},
   "outputs": [],
   "source": [
    "fig, (ax1, ax2) = plt.subplots(nrows=1, ncols=2, figsize=(12, 3.5))\n",
    "\n",
    "ax1.hist(series_sender_values[0], bins = 1000, color = 'grey')\n",
    "ax1.hist(series_sender_values[2], bins = 1000, color = 'lightgrey', alpha = .8)\n",
    "\n",
    "ax1.set_title(\"Senders\", weight = \"bold\")\n",
    "ax1.set_xlabel(\"Fluorescence Intensity (a.u.)\", weight = \"bold\")\n",
    "ax1.set_ylabel(\"Frequency\", weight = \"bold\")\n",
    "ax1.set_xticklabels(np.arange(0, 20000, 2500), rotation=30)\n",
    "ax1.set_xlim(0, 20000)\n",
    "\n",
    "ax2.hist(series_receiver_values[0], bins = 1000, color = 'grey', label = \"Before\\nTranscription\")\n",
    "ax2.hist(series_receiver_values[2], bins = 1000, color = 'lightgrey', alpha = .8, label = \"After\\nTranscription\\n(60min)\")\n",
    "\n",
    "ax2.set_title(\"Receivers\", weight = \"bold\")\n",
    "ax2.set_xlabel(\"Fluorescence Intensity (a.u.)\", weight = \"bold\")\n",
    "ax2.set_ylabel(\"Frequency\", weight = \"bold\")\n",
    "ax2.set_xticklabels(np.arange(0, 20000, 2500), rotation=30)\n",
    "ax2.set_xlim(0, 20000)\n",
    "\n",
    "plt.legend(loc=(1.05, 0.3))\n",
    "      \n",
    "plt.tight_layout()\n",
    "    \n",
    "plt.show()"
   ]
  },
  {
   "cell_type": "markdown",
   "id": "bec0db81",
   "metadata": {},
   "source": [
    "### Intensity Distribution based on droplet sizes"
   ]
  },
  {
   "cell_type": "raw",
   "id": "c3338606",
   "metadata": {},
   "source": [
    "319.45um = 2048px"
   ]
  },
  {
   "cell_type": "code",
   "execution_count": null,
   "id": "0326fa6f",
   "metadata": {},
   "outputs": [],
   "source": [
    "sender_image = plt.imread(\"./Sample_Data/Txn_series1_60min_sender.tif\")\n",
    "receiver_image = plt.imread(\"./Sample_Data/Txn_series1_60min_receiver.tif\")\n",
    "\n",
    "senders, receivers = droplet_detection(sender_image, receiver_image)\n",
    "\n",
    "areas, diamters, values = [], [], []\n",
    "\n",
    "for blob in receivers:\n",
    "    # get the size(area) of the blob\n",
    "    areas.append(blob.area)\n",
    "    diamters.append(2*np.sqrt(blob.area/np.pi)*319.45/2048)\n",
    "    # get the diameter\n",
    "    minr, minc, maxr, maxc = blob.bbox\n",
    "    blob_img = receiver_image[minr:maxr, minc:maxc]\n",
    "    vals = blob_img[blob.image]\n",
    "    values.append(vals)\n",
    "    \n",
    "receivers_df = pd.DataFrame({\"area (pixel)\":areas, 'diamter (um)':diamters, 'values':values})\n",
    "receivers_df[\"means\"] = receivers_df[\"values\"].apply(np.mean)\n",
    "\n",
    "areas, diamters, values = [], [], []\n",
    "\n",
    "for blob in senders:\n",
    "    # get the size(area) of the blob\n",
    "    areas.append(blob.area)\n",
    "    diamters.append(2*np.sqrt(blob.area/np.pi)*319.45/2048)\n",
    "    # get the diameter\n",
    "    minr, minc, maxr, maxc = blob.bbox\n",
    "    blob_img = receiver_image[minr:maxr, minc:maxc]\n",
    "    vals = blob_img[blob.image]\n",
    "    values.append(vals)\n",
    "    \n",
    "senders_df = pd.DataFrame({\"area (pixel)\":areas, 'diamter (um)':diamters, 'values':values})\n",
    "senders_df[\"means\"] = senders_df[\"values\"].apply(np.mean)"
   ]
  },
  {
   "cell_type": "code",
   "execution_count": null,
   "id": "9decfd1e",
   "metadata": {},
   "outputs": [],
   "source": [
    "receivers_df.head()"
   ]
  },
  {
   "cell_type": "code",
   "execution_count": null,
   "id": "700ae560",
   "metadata": {},
   "outputs": [],
   "source": [
    "senders_df.head()"
   ]
  },
  {
   "cell_type": "code",
   "execution_count": null,
   "id": "e31c92c4",
   "metadata": {},
   "outputs": [],
   "source": [
    "fig, (ax1, ax2) = plt.subplots(nrows=1, ncols=2, figsize=(8, 3.5))\n",
    "\n",
    "ax1.scatter(senders_df['diamter (um)'], senders_df['means'], color = \"grey\", alpha = .8)\n",
    "\n",
    "ax2.scatter(receivers_df['diamter (um)'], receivers_df['means'], color = \"grey\", alpha = .8)\n",
    "\n",
    "ax1.set_title(\"Senders\", weight = \"bold\")\n",
    "ax1.set_xlabel(\"Diameter ($\\mu$m)\", weight = \"bold\")\n",
    "ax1.set_ylabel(\"Fluorescence Intensity (a.u.)\", weight = \"bold\")\n",
    "\n",
    "ax2.set_title(\"Receivers\", weight = \"bold\")\n",
    "ax2.set_xlabel(\"Diameter ($\\mu$m)\", weight = \"bold\")\n",
    "ax2.set_ylabel(\"Fluorescence Intensity (a.u.)\", weight = \"bold\")\n",
    "        \n",
    "plt.tight_layout()\n",
    "    \n",
    "plt.show()"
   ]
  },
  {
   "cell_type": "code",
   "execution_count": null,
   "id": "ab072636",
   "metadata": {},
   "outputs": [],
   "source": [
    "def adv_concat(lst):\n",
    "    try:\n",
    "        lst = np.concatenate(lst)\n",
    "    except:\n",
    "        lst = np.array(lst)\n",
    "    return lst\n",
    "\n",
    "d5, d7_5, d10, d20, d30, d40, d50 = [], [], [], [], [], [], []\n",
    "\n",
    "for i in range(len(senders_df)):\n",
    "    if senders_df.iloc[i, 1] <= 5:\n",
    "        d5.append(senders_df.iloc[i, 2])\n",
    "    elif senders_df.iloc[i, 1] <= 7.5:\n",
    "        d7_5.append(senders_df.iloc[i, 2])\n",
    "    elif senders_df.iloc[i, 1] <= 10:\n",
    "        d10.append(senders_df.iloc[i, 2])\n",
    "    elif senders_df.iloc[i, 1] <= 20:\n",
    "        d20.append(senders_df.iloc[i, 2])\n",
    "    elif senders_df.iloc[i, 1] <= 30:\n",
    "        d30.append(senders_df.iloc[i, 2])\n",
    "    elif senders_df.iloc[i, 1] <= 40:\n",
    "        d40.append(senders_df.iloc[i, 2])\n",
    "    else:\n",
    "        d50.append(senders_df.iloc[i, 2])\n",
    "\n",
    "d5 = adv_concat(d5)\n",
    "d7_5 = adv_concat(d7_5)\n",
    "d10 = adv_concat(d10)\n",
    "d20 = adv_concat(d20)\n",
    "d30 = adv_concat(d30)\n",
    "d40 = adv_concat(d40)\n",
    "d50 = adv_concat(d50)\n",
    "\n",
    "senders_dist = [d5, d7_5, d10, d20, d30, d40, d50]\n",
    "\n",
    "d5, d7_5, d10, d20, d30, d40, d50 = [], [], [], [], [], [], []\n",
    "\n",
    "for i in range(len(receivers_df)):\n",
    "    if receivers_df.iloc[i, 1] <= 5:\n",
    "        d5.append(receivers_df.iloc[i, 2])\n",
    "    elif receivers_df.iloc[i, 1] <= 7.5:\n",
    "        d7_5.append(receivers_df.iloc[i, 2])\n",
    "    elif receivers_df.iloc[i, 1] <= 10:\n",
    "        d10.append(receivers_df.iloc[i, 2])\n",
    "    elif receivers_df.iloc[i, 1] <= 20:\n",
    "        d20.append(receivers_df.iloc[i, 2])\n",
    "    elif receivers_df.iloc[i, 1] <= 30:\n",
    "        d30.append(receivers_df.iloc[i, 2])\n",
    "    elif receivers_df.iloc[i, 1] <= 40:\n",
    "        d40.append(receivers_df.iloc[i, 2])\n",
    "    else:\n",
    "        d50.append(receivers_df.iloc[i, 2])\n",
    "\n",
    "d5 = adv_concat(d5)\n",
    "d7_5 = adv_concat(d7_5)\n",
    "d10 = adv_concat(d10)\n",
    "d20 = adv_concat(d20)\n",
    "d30 = adv_concat(d30)\n",
    "d40 = adv_concat(d40)\n",
    "d50 = adv_concat(d50)\n",
    "\n",
    "receivers_dist = [d5, d7_5, d10, d20, d30, d40, d50]"
   ]
  },
  {
   "cell_type": "code",
   "execution_count": null,
   "id": "81645e3a",
   "metadata": {},
   "outputs": [],
   "source": [
    "fig, (ax1, ax2) = plt.subplots(nrows=1, ncols=2, figsize=(9, 3.5))\n",
    "\n",
    "bplot1 = ax1.boxplot(senders_dist,\n",
    "                   showfliers=False, # dont show outliers\n",
    "                   vert=True,  # vertical box alignment\n",
    "                   patch_artist=True)\n",
    "\n",
    "bplot2 = ax2.boxplot(receivers_dist,\n",
    "                   showfliers=False, # dont show outliers\n",
    "                   vert=True,  # vertical box alignment\n",
    "                   patch_artist=True)\n",
    "\n",
    "ax1.yaxis.grid(True)\n",
    "ax1.set_title(\"Senders\", weight = \"bold\")\n",
    "ax1.set_xlabel(\"Diameter ($\\mu$m)\", weight = \"bold\")\n",
    "ax1.set_xticklabels([\"0-5\", \"5-7.5\", \"7.5-10\", \"10-20\", \"20-30\", \"30-40\", \"40-50\"], rotation = 30)\n",
    "ax1.set_ylabel(\"Fluorescence Intensity (a.u.)\", weight = \"bold\")\n",
    "\n",
    "ax2.yaxis.grid(True)\n",
    "ax2.set_title(\"Receivers\", weight = \"bold\")\n",
    "ax2.set_xlabel(\"Diameter ($\\mu$m)\", weight = \"bold\")\n",
    "ax2.set_xticklabels([\"0-5\", \"5-7.5\", \"7.5-10\", \"10-20\", \"20-30\", \"30-40\", \"40-50\"], rotation = 30)\n",
    "ax2.set_ylabel(\"Fluorescence Intensity (a.u.)\", weight = \"bold\")\n",
    "\n",
    "\n",
    "for bplot in (bplot1, bplot2):\n",
    "    for patch, color in zip(bplot['boxes'], [\"lightgray\", \"lightgray\", \"lightgray\", \"lightgray\", \"lightgray\", \"lightgray\", \"lightgray\"]):\n",
    "        patch.set_facecolor(color)  \n",
    "    for median in bplot['medians']:\n",
    "        median.set_color('black')\n",
    "        \n",
    "plt.tight_layout()\n",
    "    \n",
    "plt.show()"
   ]
  },
  {
   "cell_type": "markdown",
   "id": "2288d4c1",
   "metadata": {},
   "source": [
    "---\n",
    "### Appendix"
   ]
  },
  {
   "cell_type": "markdown",
   "id": "62e30d04",
   "metadata": {},
   "source": [
    "### Extract the pixel values of droplets - Threshold Method"
   ]
  },
  {
   "cell_type": "code",
   "execution_count": null,
   "id": "69972414",
   "metadata": {},
   "outputs": [],
   "source": [
    "def droplet_value_extraction(droplets, image, filename = False, threshold = .75):\n",
    "    \"\"\"\n",
    "    Extract the intensity value of the droplets. Can save as a txt file for later plotting.\n",
    "    \"\"\"\n",
    "    \n",
    "    values = []\n",
    "    \n",
    "    for blob in droplets:\n",
    "        \n",
    "        minr, minc, maxr, maxc = blob.bbox\n",
    "        blob_img = image[minr:maxr, minc:maxc]\n",
    "        vals = blob_img.flatten()\n",
    "        background = np.quantile(image.flatten(), threshold)\n",
    "        \n",
    "        # Remove the background values\n",
    "        vals = vals[vals > background]\n",
    "        values.append(vals)\n",
    "        \n",
    "    values = np.concatenate(values)\n",
    "    \n",
    "    if filename: np.savetxt(filename, values, fmt='%f')\n",
    "    \n",
    "    return values"
   ]
  },
  {
   "cell_type": "code",
   "execution_count": null,
   "id": "de60ad03",
   "metadata": {},
   "outputs": [],
   "source": [
    "sender_values = droplet_value_extraction(senders, receiver_image)\n",
    "\n",
    "print(\"Mean:\\t{:.2f}\\nStd:\\t{:.2f}\\nMin:\\t{:.2f}\\nMax:\\t{:.2f}\".format(np.mean(sender_values), np.std(sender_values), np.min(sender_values), np.max(sender_values)))\n",
    "\n",
    "plt.hist(sender_values, bins = 1000)\n",
    "plt.xlim(0, 20000)\n",
    "plt.show()"
   ]
  },
  {
   "cell_type": "code",
   "execution_count": null,
   "id": "c0c735d7",
   "metadata": {},
   "outputs": [],
   "source": [
    "receiver_values = droplet_value_extraction(receivers, receiver_image,\\\n",
    "                                           threshold = .75)\n",
    "\n",
    "print(\"Mean:\\t{:.2f}\\nStd:\\t{:.2f}\\nMin:\\t{:.2f}\\nMax:\\t{:.2f}\".format(np.mean(receiver_values), np.std(receiver_values), np.min(receiver_values), np.max(receiver_values)))\n",
    "\n",
    "\n",
    "plt.hist(receiver_values, bins = 1000)\n",
    "plt.xlim(0, 20000)\n",
    "plt.show()\n",
    "np.mean(receiver_values)"
   ]
  },
  {
   "cell_type": "markdown",
   "id": "4e3805b0",
   "metadata": {},
   "source": [
    "### Notes"
   ]
  },
  {
   "cell_type": "code",
   "execution_count": null,
   "id": "0f0e974b",
   "metadata": {},
   "outputs": [],
   "source": [
    "senders, receivers = droplet_detection(sender_image, receiver_image)"
   ]
  },
  {
   "cell_type": "code",
   "execution_count": null,
   "id": "a8007083",
   "metadata": {},
   "outputs": [],
   "source": [
    "droplet_annotation(receiver_image, senders, RAW = False)\n",
    "droplet_annotation(receiver_image, receivers, RAW = False)"
   ]
  },
  {
   "cell_type": "code",
   "execution_count": null,
   "id": "6f85f5d3",
   "metadata": {},
   "outputs": [],
   "source": [
    "droplet = receivers[59]\n",
    "droplet.area"
   ]
  },
  {
   "cell_type": "code",
   "execution_count": null,
   "id": "e294d41b",
   "metadata": {},
   "outputs": [],
   "source": [
    "minx, miny, maxx, maxy = droplet.bbox\n",
    "minx, miny, maxx, maxy, (maxx-minx)*(maxy-miny)"
   ]
  },
  {
   "cell_type": "code",
   "execution_count": null,
   "id": "a61c3d93",
   "metadata": {},
   "outputs": [],
   "source": [
    "plt.imshow(receiver_image[minx:maxx, miny:maxy], cmap = 'gray')"
   ]
  },
  {
   "cell_type": "code",
   "execution_count": null,
   "id": "375879ec",
   "metadata": {},
   "outputs": [],
   "source": [
    "plt.imshow(droplet.image, cmap = 'gray')"
   ]
  },
  {
   "cell_type": "code",
   "execution_count": null,
   "id": "910a9948",
   "metadata": {},
   "outputs": [],
   "source": [
    "from scipy.ndimage.morphology import binary_dilation\n",
    "\n",
    "plt.imshow(binary_dilation(droplet.image), cmap = 'gray')"
   ]
  },
  {
   "cell_type": "code",
   "execution_count": null,
   "id": "d896ea5c",
   "metadata": {},
   "outputs": [],
   "source": [
    "values = receiver_image[minx:maxx, miny:maxy][droplet.image]\n",
    "np.min(values), np.max(values), np.mean(values), np.std(values)"
   ]
  },
  {
   "cell_type": "code",
   "execution_count": null,
   "id": "51877ba5",
   "metadata": {},
   "outputs": [],
   "source": [
    "for droplet in senders:\n",
    "    minx, miny, maxx, maxy = droplet.bbox\n",
    "    values = receiver_image[minx:maxx, miny:maxy][droplet.image]\n",
    "    print(np.min(values), np.max(values), np.mean(values), np.std(values))\n"
   ]
  },
  {
   "cell_type": "code",
   "execution_count": null,
   "id": "b7b2aefe",
   "metadata": {
    "scrolled": true
   },
   "outputs": [],
   "source": [
    "ctr = 0\n",
    "for droplet in receivers:\n",
    "    minx, miny, maxx, maxy = droplet.bbox\n",
    "    values = receiver_image[minx:maxx, miny:maxy][droplet.image]\n",
    "    print(ctr, droplet.area, np.min(values), np.max(values), np.mean(values), np.std(values))\n",
    "    ctr+=1\n"
   ]
  },
  {
   "cell_type": "code",
   "execution_count": null,
   "id": "5453600d",
   "metadata": {},
   "outputs": [],
   "source": []
  }
 ],
 "metadata": {
  "kernelspec": {
   "display_name": "Python 3",
   "language": "python",
   "name": "python3"
  },
  "language_info": {
   "codemirror_mode": {
    "name": "ipython",
    "version": 3
   },
   "file_extension": ".py",
   "mimetype": "text/x-python",
   "name": "python",
   "nbconvert_exporter": "python",
   "pygments_lexer": "ipython3",
   "version": "3.8.8"
  }
 },
 "nbformat": 4,
 "nbformat_minor": 5
}
